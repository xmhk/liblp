{
 "cells": [
  {
   "cell_type": "code",
   "execution_count": 3,
   "metadata": {},
   "outputs": [],
   "source": [
    "import sys\n",
    "# use sys.path.insert to insert the path of liblp in the PYTHON path list\n",
    "sys.path.insert(0,\"/home/ch/archiv/PycharmProjects/liblp\")\n",
    "from liblp import get_intersects\n"
   ]
  },
  {
   "cell_type": "markdown",
   "metadata": {},
   "source": [
    "In this example, the intersections of the circle of radius V and mode branches are determined."
   ]
  },
  {
   "cell_type": "code",
   "execution_count": 6,
   "metadata": {},
   "outputs": [
    {
     "name": "stdout",
     "output_type": "stream",
     "text": [
      "\n",
      "m=0, # of intersections: 2\n",
      "\n",
      "  LP01 u=1.958 w=4.052\n",
      "  LP02 u=4.266 w=1.434\n",
      "\n",
      "m=1, # of intersections: 1\n",
      "\n",
      "  LP11 u=3.085 w=3.276\n",
      "\n",
      "m=2, # of intersections: 1\n",
      "\n",
      "  LP21 u=4.064 w=1.932\n",
      "\n",
      "m=3, # of intersections: 0\n",
      "\n",
      "\n",
      "m=4, # of intersections: 0\n",
      "\n",
      "\n",
      "m=5, # of intersections: 0\n",
      "\n"
     ]
    }
   ],
   "source": [
    "# set the V-number\n",
    "V=4.5\n",
    "\n",
    "# look for LP modes up to LP_mmax,x\n",
    "mmax = 5  \n",
    "\n",
    "for m in range(mmax+1):\n",
    "    intersects = get_intersects(m, V)\n",
    "    print(\"\\nm=%d, # of intersections: %d\\n\"%(m, len(intersects)))\n",
    "    for intersect in intersects:\n",
    "        print(\"  %s u=%.3f w=%.3f\"%(intersect[2], intersect[0], intersect[1]))"
   ]
  },
  {
   "cell_type": "code",
   "execution_count": null,
   "metadata": {},
   "outputs": [],
   "source": []
  }
 ],
 "metadata": {
  "kernelspec": {
   "display_name": "Python 3",
   "language": "python",
   "name": "python3"
  },
  "language_info": {
   "codemirror_mode": {
    "name": "ipython",
    "version": 3
   },
   "file_extension": ".py",
   "mimetype": "text/x-python",
   "name": "python",
   "nbconvert_exporter": "python",
   "pygments_lexer": "ipython3",
   "version": "3.7.0"
  }
 },
 "nbformat": 4,
 "nbformat_minor": 2
}
