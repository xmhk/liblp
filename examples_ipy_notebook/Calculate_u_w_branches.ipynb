{
 "cells": [
  {
   "cell_type": "code",
   "execution_count": 4,
   "metadata": {},
   "outputs": [],
   "source": [
    "import sys\n",
    "import numpy as np\n",
    "from matplotlib import pyplot as plt\n",
    "%matplotlib notebook\n",
    "import scipy.io as sio\n",
    "from time import time\n",
    "\n",
    "sys.path.insert(0,\"/home/ch/archiv/PycharmProjects/liblp\")\n",
    "from liblp import *\n",
    "branchfilename = \"lp_branches_vmax_8.mat\"\n"
   ]
  },
  {
   "cell_type": "markdown",
   "metadata": {},
   "source": [
    "# calculate branches in the u-w plane (may take some time!)"
   ]
  },
  {
   "cell_type": "code",
   "execution_count": 5,
   "metadata": {
    "scrolled": false
   },
   "outputs": [],
   "source": [
    "t1 = time()\n",
    "if False:\n",
    "    points = 1000\n",
    "    V=8\n",
    "    res = {}\n",
    "    for m in range(6):\n",
    "        diff, uv=calc_jkdiff_matrix(m, V, pts=points)\n",
    "        coord = []\n",
    "        for i in range(points):\n",
    "            pl = pyfindpeaks(5, 1/diff[i,:],30)\n",
    "            if len(pl)>0:\n",
    "                for k in range(len(pl)):\n",
    "                    coord.append([uv[i], uv[pl[k]]])\n",
    "        res[str(m)]=np.array(coord)\n",
    "        \n",
    "    print(\"Duration: %.2f \"%(time()-t1))    \n",
    "    \n",
    "    def getbranchpoints(M, xmi, xma):\n",
    "        iindx = np.nonzero(np.multiply( M[:,1]>=xmi , M[:,1]<xma))[0]\n",
    "        uv = M[iindx, 1]\n",
    "        wv = M[iindx, 0]\n",
    "        return np.transpose(np.array([uv,wv]))\n",
    "    \n",
    "    uwbranches = {}\n",
    "    uwbranches['01'] = getbranchpoints(res['0'], 0, 2.5)\n",
    "    uwbranches['02'] = getbranchpoints(res['0'], 3.5, 5.2)\n",
    "    uwbranches['03'] = getbranchpoints(res['0'], 6, 8)\n",
    "    uwbranches['11'] = getbranchpoints(res['1'], 2, 4)\n",
    "    uwbranches['12'] = getbranchpoints(res['1'], 5.5, 7)\n",
    "    uwbranches['21'] = getbranchpoints(res['2'], 3, 5)\n",
    "    uwbranches['22'] = getbranchpoints(res['2'], 6.5, 8)\n",
    "    uwbranches['31'] = getbranchpoints(res['3'], 5, 6)\n",
    "    uwbranches['41'] = getbranchpoints(res['4'], 0, 8)\n",
    "    uwbranches['51'] = getbranchpoints(res['5'], 0, 8) \n",
    "    \n",
    "    \n",
    "    plt.figure()\n",
    "    plt.subplot(321)\n",
    "    m=0\n",
    "    plt.title(\"m=0\")\n",
    "    plt.plot(res[str(m)][:,1], res[str(m)][:,0],'o', ms=1)\n",
    "    plt.plot(uwbranches['01'][:,0], uwbranches['01'][:,1])\n",
    "    plt.plot(uwbranches['02'][:,0], uwbranches['02'][:,1])\n",
    "    plt.plot(uwbranches['03'][:,0], uwbranches['03'][:,1])\n",
    "\n",
    "    plt.subplot(322)\n",
    "    plt.title(\"m=1\")\n",
    "    m=1\n",
    "    plt.plot(res[str(m)][:,1], res[str(m)][:,0],'o', ms=1)\n",
    "    plt.plot(uwbranches['11'][:,0], uwbranches['11'][:,1])\n",
    "    plt.plot(uwbranches['12'][:,0], uwbranches['12'][:,1])\n",
    "\n",
    "    plt.subplot(323)\n",
    "    plt.title(\"m=2\")\n",
    "    m=2\n",
    "    plt.plot(res[str(m)][:,1], res[str(m)][:,0],'o', ms=1)\n",
    "    plt.plot(uwbranches['21'][:,0], uwbranches['21'][:,1])\n",
    "    plt.plot(uwbranches['22'][:,0], uwbranches['22'][:,1])\n",
    "\n",
    "    plt.subplot(324)\n",
    "    plt.title(\"m=3\")\n",
    "    m=3\n",
    "    plt.plot(res[str(m)][:,1], res[str(m)][:,0],'o', ms=1)\n",
    "    plt.plot(uwbranches['31'][:,0], uwbranches['31'][:,1])\n",
    "\n",
    "    plt.subplot(325)\n",
    "    plt.title(\"m=4\")\n",
    "    m=4\n",
    "    plt.plot(res[str(m)][:,1], res[str(m)][:,0],'o', ms=1)\n",
    "    plt.plot(uwbranches['41'][:,0], uwbranches['41'][:,1])\n",
    "\n",
    "    plt.subplot(326)\n",
    "    plt.title(\"m=5\")\n",
    "    m=5\n",
    "    #plt.plot(res[str(m)][:,1], res[str(m)][:,0],'o', ms=1)\n",
    "    plt.plot(uwbranches['51'][:,0], uwbranches['51'][:,1])\n",
    "    \n",
    "    sio.savemat(branchfilename, uwbranches)"
   ]
  },
  {
   "cell_type": "markdown",
   "metadata": {},
   "source": [
    "# Plot branches for V<=8"
   ]
  },
  {
   "cell_type": "code",
   "execution_count": 6,
   "metadata": {},
   "outputs": [
    {
     "ename": "FileNotFoundError",
     "evalue": "[Errno 2] No such file or directory: 'lp_branches_vmax_8.mat'",
     "traceback": [
      "\u001b[0;31m---------------------------------------------------------------------------\u001b[0m",
      "\u001b[0;31mFileNotFoundError\u001b[0m                         Traceback (most recent call last)",
      "\u001b[0;32m/usr/lib/python3.7/site-packages/scipy/io/matlab/mio.py\u001b[0m in \u001b[0;36m_open_file\u001b[0;34m(file_like, appendmat)\u001b[0m\n\u001b[1;32m     32\u001b[0m     \u001b[0;32mtry\u001b[0m\u001b[0;34m:\u001b[0m\u001b[0;34m\u001b[0m\u001b[0m\n\u001b[0;32m---> 33\u001b[0;31m         \u001b[0;32mreturn\u001b[0m \u001b[0mopen\u001b[0m\u001b[0;34m(\u001b[0m\u001b[0mfile_like\u001b[0m\u001b[0;34m,\u001b[0m \u001b[0;34m'rb'\u001b[0m\u001b[0;34m)\u001b[0m\u001b[0;34m,\u001b[0m \u001b[0;32mTrue\u001b[0m\u001b[0;34m\u001b[0m\u001b[0m\n\u001b[0m\u001b[1;32m     34\u001b[0m     \u001b[0;32mexcept\u001b[0m \u001b[0mIOError\u001b[0m\u001b[0;34m:\u001b[0m\u001b[0;34m\u001b[0m\u001b[0m\n",
      "\u001b[0;31mFileNotFoundError\u001b[0m: [Errno 2] No such file or directory: 'lp_branches_vmax_8.mat'",
      "\nDuring handling of the above exception, another exception occurred:\n",
      "\u001b[0;31mFileNotFoundError\u001b[0m                         Traceback (most recent call last)",
      "\u001b[0;32m<ipython-input-6-e6ce1d35ef61>\u001b[0m in \u001b[0;36m<module>\u001b[0;34m()\u001b[0m\n\u001b[0;32m----> 1\u001b[0;31m \u001b[0muwbranches\u001b[0m \u001b[0;34m=\u001b[0m \u001b[0msio\u001b[0m\u001b[0;34m.\u001b[0m\u001b[0mloadmat\u001b[0m\u001b[0;34m(\u001b[0m\u001b[0mbranchfilename\u001b[0m\u001b[0;34m)\u001b[0m\u001b[0;34m\u001b[0m\u001b[0m\n\u001b[0m\u001b[1;32m      2\u001b[0m \u001b[0;31m#plt.figure(figsize=(2.,2.))\u001b[0m\u001b[0;34m\u001b[0m\u001b[0;34m\u001b[0m\u001b[0m\n\u001b[1;32m      3\u001b[0m \u001b[0mplt\u001b[0m\u001b[0;34m.\u001b[0m\u001b[0mfigure\u001b[0m\u001b[0;34m(\u001b[0m\u001b[0mfigsize\u001b[0m\u001b[0;34m=\u001b[0m\u001b[0;34m(\u001b[0m\u001b[0;36m6.\u001b[0m\u001b[0;34m,\u001b[0m\u001b[0;36m6.\u001b[0m\u001b[0;34m)\u001b[0m\u001b[0;34m)\u001b[0m\u001b[0;34m\u001b[0m\u001b[0m\n\u001b[1;32m      4\u001b[0m \u001b[0;34m\u001b[0m\u001b[0m\n\u001b[1;32m      5\u001b[0m \u001b[0;34m\u001b[0m\u001b[0m\n",
      "\u001b[0;32m/usr/lib/python3.7/site-packages/scipy/io/matlab/mio.py\u001b[0m in \u001b[0;36mloadmat\u001b[0;34m(file_name, mdict, appendmat, **kwargs)\u001b[0m\n\u001b[1;32m    139\u001b[0m     \"\"\"\n\u001b[1;32m    140\u001b[0m     \u001b[0mvariable_names\u001b[0m \u001b[0;34m=\u001b[0m \u001b[0mkwargs\u001b[0m\u001b[0;34m.\u001b[0m\u001b[0mpop\u001b[0m\u001b[0;34m(\u001b[0m\u001b[0;34m'variable_names'\u001b[0m\u001b[0;34m,\u001b[0m \u001b[0;32mNone\u001b[0m\u001b[0;34m)\u001b[0m\u001b[0;34m\u001b[0m\u001b[0m\n\u001b[0;32m--> 141\u001b[0;31m     \u001b[0mMR\u001b[0m\u001b[0;34m,\u001b[0m \u001b[0mfile_opened\u001b[0m \u001b[0;34m=\u001b[0m \u001b[0mmat_reader_factory\u001b[0m\u001b[0;34m(\u001b[0m\u001b[0mfile_name\u001b[0m\u001b[0;34m,\u001b[0m \u001b[0mappendmat\u001b[0m\u001b[0;34m,\u001b[0m \u001b[0;34m**\u001b[0m\u001b[0mkwargs\u001b[0m\u001b[0;34m)\u001b[0m\u001b[0;34m\u001b[0m\u001b[0m\n\u001b[0m\u001b[1;32m    142\u001b[0m     \u001b[0mmatfile_dict\u001b[0m \u001b[0;34m=\u001b[0m \u001b[0mMR\u001b[0m\u001b[0;34m.\u001b[0m\u001b[0mget_variables\u001b[0m\u001b[0;34m(\u001b[0m\u001b[0mvariable_names\u001b[0m\u001b[0;34m)\u001b[0m\u001b[0;34m\u001b[0m\u001b[0m\n\u001b[1;32m    143\u001b[0m     \u001b[0;32mif\u001b[0m \u001b[0mmdict\u001b[0m \u001b[0;32mis\u001b[0m \u001b[0;32mnot\u001b[0m \u001b[0;32mNone\u001b[0m\u001b[0;34m:\u001b[0m\u001b[0;34m\u001b[0m\u001b[0m\n",
      "\u001b[0;32m/usr/lib/python3.7/site-packages/scipy/io/matlab/mio.py\u001b[0m in \u001b[0;36mmat_reader_factory\u001b[0;34m(file_name, appendmat, **kwargs)\u001b[0m\n\u001b[1;32m     62\u001b[0m \u001b[0;34m\u001b[0m\u001b[0m\n\u001b[1;32m     63\u001b[0m     \"\"\"\n\u001b[0;32m---> 64\u001b[0;31m     \u001b[0mbyte_stream\u001b[0m\u001b[0;34m,\u001b[0m \u001b[0mfile_opened\u001b[0m \u001b[0;34m=\u001b[0m \u001b[0m_open_file\u001b[0m\u001b[0;34m(\u001b[0m\u001b[0mfile_name\u001b[0m\u001b[0;34m,\u001b[0m \u001b[0mappendmat\u001b[0m\u001b[0;34m)\u001b[0m\u001b[0;34m\u001b[0m\u001b[0m\n\u001b[0m\u001b[1;32m     65\u001b[0m     \u001b[0mmjv\u001b[0m\u001b[0;34m,\u001b[0m \u001b[0mmnv\u001b[0m \u001b[0;34m=\u001b[0m \u001b[0mget_matfile_version\u001b[0m\u001b[0;34m(\u001b[0m\u001b[0mbyte_stream\u001b[0m\u001b[0;34m)\u001b[0m\u001b[0;34m\u001b[0m\u001b[0m\n\u001b[1;32m     66\u001b[0m     \u001b[0;32mif\u001b[0m \u001b[0mmjv\u001b[0m \u001b[0;34m==\u001b[0m \u001b[0;36m0\u001b[0m\u001b[0;34m:\u001b[0m\u001b[0;34m\u001b[0m\u001b[0m\n",
      "\u001b[0;32m/usr/lib/python3.7/site-packages/scipy/io/matlab/mio.py\u001b[0m in \u001b[0;36m_open_file\u001b[0;34m(file_like, appendmat)\u001b[0m\n\u001b[1;32m     37\u001b[0m             \u001b[0;32mif\u001b[0m \u001b[0mappendmat\u001b[0m \u001b[0;32mand\u001b[0m \u001b[0;32mnot\u001b[0m \u001b[0mfile_like\u001b[0m\u001b[0;34m.\u001b[0m\u001b[0mendswith\u001b[0m\u001b[0;34m(\u001b[0m\u001b[0;34m'.mat'\u001b[0m\u001b[0;34m)\u001b[0m\u001b[0;34m:\u001b[0m\u001b[0;34m\u001b[0m\u001b[0m\n\u001b[1;32m     38\u001b[0m                 \u001b[0mfile_like\u001b[0m \u001b[0;34m+=\u001b[0m \u001b[0;34m'.mat'\u001b[0m\u001b[0;34m\u001b[0m\u001b[0m\n\u001b[0;32m---> 39\u001b[0;31m             \u001b[0;32mreturn\u001b[0m \u001b[0mopen\u001b[0m\u001b[0;34m(\u001b[0m\u001b[0mfile_like\u001b[0m\u001b[0;34m,\u001b[0m \u001b[0;34m'rb'\u001b[0m\u001b[0;34m)\u001b[0m\u001b[0;34m,\u001b[0m \u001b[0;32mTrue\u001b[0m\u001b[0;34m\u001b[0m\u001b[0m\n\u001b[0m\u001b[1;32m     40\u001b[0m         \u001b[0;32melse\u001b[0m\u001b[0;34m:\u001b[0m\u001b[0;34m\u001b[0m\u001b[0m\n\u001b[1;32m     41\u001b[0m             \u001b[0;32mraise\u001b[0m \u001b[0mIOError\u001b[0m\u001b[0;34m(\u001b[0m\u001b[0;34m'Reader needs file name or open file-like object'\u001b[0m\u001b[0;34m)\u001b[0m\u001b[0;34m\u001b[0m\u001b[0m\n",
      "\u001b[0;31mFileNotFoundError\u001b[0m: [Errno 2] No such file or directory: 'lp_branches_vmax_8.mat'"
     ],
     "output_type": "error"
    }
   ],
   "source": [
    "uwbranches = sio.loadmat(branchfilename)\n",
    "#plt.figure(figsize=(2.,2.))\n",
    "plt.figure(figsize=(6.,6.))\n",
    "\n",
    "\n",
    "plt.plot(uwbranches['01'][:,0], uwbranches['01'][:,1])\n",
    "plt.plot(uwbranches['02'][:,0], uwbranches['02'][:,1])\n",
    "plt.plot(uwbranches['03'][:,0], uwbranches['03'][:,1])\n",
    "\n",
    "plt.plot(uwbranches['11'][:,0], uwbranches['11'][:,1])\n",
    "plt.plot(uwbranches['12'][:,0], uwbranches['12'][:,1])\n",
    "\n",
    "plt.plot(uwbranches['21'][:,0], uwbranches['21'][:,1])\n",
    "plt.plot(uwbranches['22'][:,0], uwbranches['22'][:,1])\n",
    "\n",
    "plt.plot(uwbranches['31'][:,0], uwbranches['31'][:,1])\n",
    "\n",
    "plt.plot(uwbranches['41'][:,0], uwbranches['41'][:,1])\n",
    "\n",
    "plt.plot(uwbranches['51'][:,0], uwbranches['51'][:,1])\n",
    "\n",
    "plt.xticks(np.arange(9))\n",
    "plt.yticks(np.arange(9))\n",
    "plt.xlim([0,8])\n",
    "plt.ylim([0,8])"
   ]
  },
  {
   "cell_type": "markdown",
   "metadata": {},
   "source": [
    "# Plot branches and intersections for V="
   ]
  },
  {
   "cell_type": "code",
   "execution_count": 10,
   "metadata": {},
   "outputs": [
    {
     "name": "stderr",
     "output_type": "stream",
     "text": [
      "/usr/lib/python3.7/site-packages/ipykernel_launcher.py:13: RuntimeWarning: invalid value encountered in sqrt\n",
      "  del sys.path[0]\n"
     ]
    },
    {
     "data": {
      "image/png": "[encoded data removed]",
      "text/plain": [
       "<Figure size 144x144 with 1 Axes>"
      ]
     },
     "metadata": {
      "needs_background": "light"
     },
     "output_type": "display_data"
    }
   ],
   "source": [
    "plt.figure(figsize=(2.,2.))\n",
    "u = np.linspace(0, 4.999999, 500)\n",
    "\n",
    "plt.plot(uwbranches['01'][:,0], uwbranches['01'][:,1])\n",
    "plt.plot(uwbranches['02'][:,0], uwbranches['02'][:,1])\n",
    "\n",
    "\n",
    "plt.plot(uwbranches['11'][:,0], uwbranches['11'][:,1])\n",
    "\n",
    "plt.plot(uwbranches['21'][:,0], uwbranches['21'][:,1])\n",
    "plt.xticks(np.arange(6))\n",
    "plt.yticks(np.arange(6))\n",
    "plt.plot(u, np.sqrt(4.5**2 - u**2), c='0.0')\n",
    "plt.xlim([0,5])\n",
    "plt.ylim([0,5])\n",
    "#plt.savefig(\"u_w_plane_raw2.pdf\")"
   ]
  },
  {
   "cell_type": "code",
   "execution_count": null,
   "metadata": {},
   "outputs": [],
   "source": []
  }
 ],
 "metadata": {
  "kernelspec": {
   "display_name": "Python 3",
   "language": "python",
   "name": "python3"
  },
  "language_info": {
   "codemirror_mode": {
    "name": "ipython",
    "version": 3
   },
   "file_extension": ".py",
   "mimetype": "text/x-python",
   "name": "python",
   "nbconvert_exporter": "python",
   "pygments_lexer": "ipython3",
   "version": "3.7.0"
  }
 },
 "nbformat": 4,
 "nbformat_minor": 2
}
